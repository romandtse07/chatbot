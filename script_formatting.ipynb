{
 "cells": [
  {
   "cell_type": "code",
   "execution_count": 1,
   "metadata": {},
   "outputs": [],
   "source": [
    "import requests\n",
    "from bs4 import BeautifulSoup\n",
    "import re\n",
    "import numpy as np"
   ]
  },
  {
   "cell_type": "code",
   "execution_count": 2,
   "metadata": {},
   "outputs": [],
   "source": [
    "req = requests.get('https://www.imsdb.com/scripts/Matrix,-The.html')\n",
    "soup = BeautifulSoup(req.content, 'lxml')"
   ]
  },
  {
   "cell_type": "code",
   "execution_count": 5,
   "metadata": {},
   "outputs": [],
   "source": [
    "script = soup.find('pre')"
   ]
  },
  {
   "cell_type": "code",
   "execution_count": 157,
   "metadata": {},
   "outputs": [
    {
     "data": {
      "text/plain": [
       "\"\\n\\n\\n\\n\\n\\n\\n\\n\\n\\n\\n\\n\\n\\n\\n\\t\\t\\t\\t\\tTHE MATRIX\\n\\n\\n\\n\\t\\t\\t\\t\\tWritten by\\n\\n\\t\\t\\t\\tLarry and Andy Wachowski\\n\\n\\n\\n\\n\\n\\n\\n\\n\\n\\n\\n\\n\\n\\n\\n\\n\\n\\n\\n\\n\\n\\n\\n\\n\\n\\n\\n\\n\\n\\t\\t\\t\\t\\tApril 8, 1996\\n\\n\\n\\n\\n\\n\\n\\n\\tFADE IN ON:\\n\\n\\tCOMPUTER SCREEN\\n\\n\\tSo close it has no boundaries.\\n\\n\\tA blinking cursor pulses in the electric darkness like a\\n\\theart coursing with phosphorous light, burning beneath\\n\\tthe derma of black-neon glass.\\n\\n\\tA PHONE begins to RING, we hear it as though we were \\n\\tmaking the call.  The cursor continues to throb,\\n\\trelentlessly patient, until --\\n\\n\\t\\t\\t\\t\\tMAN (V.O.)\\n\\t\\t\\tHello?\\n\\n\\tData now slashes across the screen, information flashing\\n\\tfaster than we read.\\n\\n\\t\\t\\t\\t\\tSCREEN\\n\\t\\t\\tCall trans opt:  received.\\n\\t\\t\\t2-19-96  13:24:18  REC:Log>\\n\\n\\t\\t\\t\\t\\tWOMAN (V.O.)\\n\\t\\t\\tI'm inside.  Anything to report?\\n\\n\\tWe listen to the phone conversation as though we were on\\n\\ta third line.  The man's name is CYPHER.  The woman, \\n\\tTRINITY.\\n\\n\\t\\t\\t\\t\\tCYPHER (V.O.)\\n\\t\\t\\tLet's see.  Target left work at\\n\\t\\t\\t5:01 PM.\\n\\n\\t\\t\\t\\t\\tSCREEN\\n\\t\\t\\tTrace program:  running.\\n\\n\\tThe entire screen fills with racing columns o\""
      ]
     },
     "execution_count": 157,
     "metadata": {},
     "output_type": "execute_result"
    }
   ],
   "source": [
    "script.text[:1000]"
   ]
  },
  {
   "cell_type": "markdown",
   "metadata": {},
   "source": [
    "names are preceded by 2 \\n\\n\\t\\t\\t\\t\\t, dialogue is preceded by \\n\\t\\t\\t, stage direction is preceded by \\n\\n\\t.  Problems that immediately come to mind: \n",
    "- making sure preceding spoken line is dialogue by someone else and not some transition\n",
    "- making sure the format is the same between all scripts\n",
    "\n",
    "With the neat formatting, that's all I can think of.\n",
    "\n",
    "Leap of faith: conditions listed are going to apply to other scripts.  Unlikely, but let's see how it goes."
   ]
  },
  {
   "cell_type": "code",
   "execution_count": 156,
   "metadata": {},
   "outputs": [],
   "source": [
    "possible_characters = set([re.sub('[\\n\\t]', '', tagged.text) for tagged in script.findAll('b') if 'INT.' not in tagged.text and 'EXT.' not in tagged.text and ':' not in tagged.text])"
   ]
  },
  {
   "cell_type": "code",
   "execution_count": 114,
   "metadata": {},
   "outputs": [],
   "source": [
    "all_lines = [chunk.split('\\n\\t\\t\\t') for chunk in script.text.split('\\n\\n\\t\\t\\t\\t\\t')]"
   ]
  },
  {
   "cell_type": "code",
   "execution_count": 122,
   "metadata": {},
   "outputs": [
    {
     "data": {
      "text/plain": [
       "['NEO',\n",
       " 'Shitshitshit.\\n\\n\\n\\tEXT.  SKYSCRAPER\\n\\n\\tThe downtown office of CorTechs, a software development\\n\\tcompany.\\n\\n\\n\\tINT.  CORTECHS OFFICE\\n\\n\\tThe main offices are along each wall, the windows\\n\\toverlooking downtown Chicago.\\n\\n\\tRHINEHEART, the ultimate company man, lectures Neo\\n\\twithout looking at him, typing at his computer\\n\\tcontinuously.\\n\\n\\tNeo stares at two window cleaners on a scaffolding\\n\\toutside, dragging their rubber squeegees down across the\\n\\tsurface of the glass.']"
      ]
     },
     "execution_count": 122,
     "metadata": {},
     "output_type": "execute_result"
    }
   ],
   "source": [
    "all_lines[101]"
   ]
  },
  {
   "cell_type": "code",
   "execution_count": 160,
   "metadata": {},
   "outputs": [],
   "source": [
    "void_directions = lambda line: re.sub('\\n\\n+\\t.*$', '', line, flags=re.S)\n",
    "response = [(lines[0], ' '.join([void_directions(line) for line in lines[1:]])) for lines in all_lines if 'NEO' in lines[0]]"
   ]
  },
  {
   "cell_type": "code",
   "execution_count": 161,
   "metadata": {},
   "outputs": [],
   "source": [
    "neo_lines_index = [index - 1 for index, lines in enumerate(all_lines) if 'NEO' in lines[0]]"
   ]
  },
  {
   "cell_type": "code",
   "execution_count": 178,
   "metadata": {},
   "outputs": [],
   "source": [
    "probable_characters = [(character, len([line for line in all_lines if line[0]==character])) for character in possible_characters]\n",
    "probable_characters = [character[0] for character in probable_characters if character[1] > 0]"
   ]
  },
  {
   "cell_type": "code",
   "execution_count": 163,
   "metadata": {},
   "outputs": [],
   "source": [
    "prompts = [(lines[0], ' '.join([void_directions(line) for line in lines[1:]])) for index, lines in enumerate(all_lines) if index in neo_lines_index]"
   ]
  },
  {
   "cell_type": "raw",
   "metadata": {},
   "source": [
    "[(prompt, response) for prompt, response in zip(prompts, response) \n",
    "     if prompt[1] and response[1] \n",
    "     and prompt[0] != response[0] \n",
    "     and ':' not in ' '.join([prompt[1], response[1]])]"
   ]
  },
  {
   "cell_type": "markdown",
   "metadata": {},
   "source": [
    "There is so much that will make this data garbage as far as naming it dialogue goes.  Movies will have a lot of stage direction that will influence the conversation.  Looking up a line doesn't guarantee that it's the same interaction by any means.  Right now, I'm just hoping to have grammar show up in the model, realizing how difficult it's going to be.  I don't want to cut off conversations just for the presence of stage direction, but they often signal change in conversation.  Maybe count line breaks in the future."
   ]
  },
  {
   "cell_type": "code",
   "execution_count": 296,
   "metadata": {},
   "outputs": [],
   "source": [
    "voidDirections = lambda line: re.sub('\\n\\n+\\t.*$', '', line, flags=re.S)\n",
    "\n",
    "def displayDialogue(url):\n",
    "    req = requests.get(url)\n",
    "    soup = BeautifulSoup(req.content, 'lxml')\n",
    "    script = soup.find('pre')\n",
    "    all_lines = [chunk.split('\\n\\t\\t\\t') for chunk in script.text.split('\\n\\n\\t\\t\\t\\t\\t')]\n",
    "\n",
    "    possible_characters = set([re.sub('[\\n\\t]', '', tagged.text) for tagged in script.findAll('b') if 'INT.' not in tagged.text and 'EXT.' not in tagged.text and ':' not in tagged.text])\n",
    "    probable_characters = [(character, len([line for line in all_lines if line[0]==character])) for character in possible_characters]\n",
    "    probable_characters = [character[0] for character in probable_characters if character[1] > 10]\n",
    "\n",
    "    dialogues = []\n",
    "    for character in probable_characters:\n",
    "        response = [(lines[0], ' '.join([voidDirections(line) for line in lines[1:]])) for lines in all_lines if lines[0] == character]\n",
    "        char_indicies = [index - 1 for index, lines in enumerate(all_lines) if lines[0] == character]\n",
    "        prompts = [(lines[0], ' '.join([voidDirections(line) for line in lines[1:]])) for index, lines in enumerate(all_lines) if index in char_indicies]\n",
    "        char_dialogues = [(prompt[1], response[1]) for prompt, response in zip(prompts, response) \n",
    "                             if prompt[1] and response[1] \n",
    "                             and prompt[0] != response[0] \n",
    "                             and ':' not in ' '.join([prompt[1], response[1]])]\n",
    "        dialogues.extend(char_dialogues)\n",
    "    return dialogues"
   ]
  },
  {
   "cell_type": "raw",
   "metadata": {},
   "source": [
    "display_dialogue('https://www.imsdb.com/scripts/Matrix,-The.html')"
   ]
  },
  {
   "cell_type": "raw",
   "metadata": {},
   "source": [
    "display_dialogue('https://www.imsdb.com/scripts/Alien.html')"
   ]
  },
  {
   "cell_type": "markdown",
   "metadata": {},
   "source": [
    "## Attempt 2\n",
    "\n",
    "Well that's not going to generalize well apparently."
   ]
  },
  {
   "cell_type": "code",
   "execution_count": 241,
   "metadata": {},
   "outputs": [],
   "source": [
    "url = 'https://www.imsdb.com/scripts/Alien.html'"
   ]
  },
  {
   "cell_type": "code",
   "execution_count": 242,
   "metadata": {},
   "outputs": [],
   "source": [
    "req = requests.get(url)\n",
    "soup = BeautifulSoup(req.content, 'lxml')\n",
    "script = soup.find('pre')"
   ]
  },
  {
   "cell_type": "code",
   "execution_count": 243,
   "metadata": {},
   "outputs": [],
   "source": [
    "possible_characters = [re.sub('[\\n\\t]|\\s{2,}', '', tagged.text) for tagged in script.findAll('b') \n",
    "                       if 'INT' not in tagged.text \n",
    "                       and 'EXT' not in tagged.text \n",
    "                       and ':' not in tagged.text]"
   ]
  },
  {
   "cell_type": "code",
   "execution_count": 246,
   "metadata": {},
   "outputs": [],
   "source": [
    "probable_characters = [(character, len([line for line in possible_characters if line==character])) for character in set(possible_characters)]\n",
    "probable_characters = [character[0] for character in probable_characters if character[1] > 5]"
   ]
  },
  {
   "cell_type": "code",
   "execution_count": 247,
   "metadata": {},
   "outputs": [
    {
     "data": {
      "text/plain": [
       "['BROUSSARD',\n",
       " 'COMPUTER',\n",
       " 'ROBY',\n",
       " \"BROUSSARD (CONT'D)\",\n",
       " 'MELKONIS',\n",
       " \"ROBY (CONT'D)\",\n",
       " 'STANDARD',\n",
       " 'HUNTER',\n",
       " \"STANDARD (CONT'D)\",\n",
       " 'FAUST']"
      ]
     },
     "execution_count": 247,
     "metadata": {},
     "output_type": "execute_result"
    }
   ],
   "source": [
    "probable_characters"
   ]
  },
  {
   "cell_type": "raw",
   "metadata": {},
   "source": [
    "str(script)"
   ]
  },
  {
   "cell_type": "raw",
   "metadata": {},
   "source": [
    "re.findall('\\ *ROBY.*(\\n.+\\n*.*)', script.text)"
   ]
  },
  {
   "cell_type": "raw",
   "metadata": {},
   "source": [
    "print(re.sub('\\s{2,}', '', str(script)))"
   ]
  },
  {
   "cell_type": "markdown",
   "metadata": {},
   "source": [
    "# New site\n",
    "\n",
    "https://www.weeklyscript.com/ .  No random tabs and spaces to format here, so screw you imsdb. **Edit** Mein Gott \n",
    "\n",
    "Notes:\n",
    "- remove (.*)'s\n"
   ]
  },
  {
   "cell_type": "code",
   "execution_count": 103,
   "metadata": {},
   "outputs": [],
   "source": [
    "url = 'https://www.weeklyscript.com/Big+Lebowski,%20The.html'"
   ]
  },
  {
   "cell_type": "code",
   "execution_count": 124,
   "metadata": {},
   "outputs": [],
   "source": [
    "req = requests.get(url)\n",
    "soup = BeautifulSoup(req.content, 'lxml')\n",
    "script = soup.find('center')"
   ]
  },
  {
   "cell_type": "code",
   "execution_count": 174,
   "metadata": {},
   "outputs": [
    {
     "data": {
      "text/plain": [
       "2790"
      ]
     },
     "execution_count": 174,
     "metadata": {},
     "output_type": "execute_result"
    }
   ],
   "source": [
    "len(re.findall('(?<=[^\\n])\\n{1}(?=[^\\n])', script.text))"
   ]
  },
  {
   "cell_type": "code",
   "execution_count": 153,
   "metadata": {},
   "outputs": [],
   "source": [
    "script1 = re.sub('([A-Z]+\\)*)\\n', '\\\\1:\\n', script.text)\n",
    "script1 = re.sub('(?<=[^\\n])\\n{1}', '#', script1).replace('  ', ' ')"
   ]
  },
  {
   "cell_type": "code",
   "execution_count": 154,
   "metadata": {},
   "outputs": [],
   "source": [
    "#get rid of \n",
    "script1 = re.sub('\\([a-z].*\\)', '', script1).split('\\n')"
   ]
  },
  {
   "cell_type": "raw",
   "metadata": {},
   "source": [
    "script1"
   ]
  },
  {
   "cell_type": "code",
   "execution_count": 9,
   "metadata": {},
   "outputs": [],
   "source": [
    "def lineType(line):\n",
    "    if re.search('^[^a-z]*:[^a-z]*$', line):\n",
    "        return '@setting'\n",
    "    if re.match('^[A-Z.,\\'\\ ]+:', line):\n",
    "        return '@speak'\n",
    "    else:\n",
    "        return '@scene'"
   ]
  },
  {
   "cell_type": "code",
   "execution_count": 10,
   "metadata": {},
   "outputs": [
    {
     "data": {
      "text/plain": [
       "'@setting'"
      ]
     },
     "execution_count": 10,
     "metadata": {},
     "output_type": "execute_result"
    }
   ],
   "source": [
    "lineType('INT. WELTON ACADAMY DINING HALL - DAY - VARIOUS SHOTS:#')"
   ]
  },
  {
   "cell_type": "code",
   "execution_count": 11,
   "metadata": {},
   "outputs": [
    {
     "data": {
      "text/plain": [
       "'@scene'"
      ]
     },
     "execution_count": 11,
     "metadata": {},
     "output_type": "execute_result"
    }
   ],
   "source": [
    "lineType('He moves off, then stops in front of Charlie Dalton.#')"
   ]
  },
  {
   "cell_type": "code",
   "execution_count": 12,
   "metadata": {},
   "outputs": [],
   "source": [
    "script_split = [lineType(line) for line in script1]"
   ]
  },
  {
   "cell_type": "markdown",
   "metadata": {},
   "source": [
    "## Further Processing to be done:\n",
    "- cut entire list up to very first spoken line\n",
    "- split by setting lines\n",
    "- write something to tell whether to split by scene lines"
   ]
  },
  {
   "cell_type": "code",
   "execution_count": 14,
   "metadata": {},
   "outputs": [],
   "source": [
    "first_spoken_line = np.where([line=='@speak' for line in script_split])[0][0]"
   ]
  },
  {
   "cell_type": "code",
   "execution_count": 15,
   "metadata": {},
   "outputs": [],
   "source": [
    "setting_lines = np.where([line=='@setting' for line in script_split])[0]"
   ]
  },
  {
   "cell_type": "code",
   "execution_count": 16,
   "metadata": {},
   "outputs": [],
   "source": [
    "scene_lines = np.where([line=='@scene' for line in script_split])[0]"
   ]
  },
  {
   "cell_type": "code",
   "execution_count": 17,
   "metadata": {},
   "outputs": [
    {
     "data": {
      "text/plain": [
       "\"CHUCKIE:#Well you know how he loves animals #right? Anyway, last week he's drivin' #home...##\""
      ]
     },
     "execution_count": 17,
     "metadata": {},
     "output_type": "execute_result"
    }
   ],
   "source": [
    "script1[23]"
   ]
  },
  {
   "cell_type": "code",
   "execution_count": 19,
   "metadata": {},
   "outputs": [],
   "source": [
    "a = script1[first_spoken_line]"
   ]
  },
  {
   "cell_type": "code",
   "execution_count": 20,
   "metadata": {},
   "outputs": [
    {
     "data": {
      "text/plain": [
       "'CHUCKIE'"
      ]
     },
     "execution_count": 20,
     "metadata": {},
     "output_type": "execute_result"
    }
   ],
   "source": [
    "a[:a.index(':#')]"
   ]
  },
  {
   "cell_type": "markdown",
   "metadata": {},
   "source": [
    "wondering if scene changes accompanied by scene description is what constitutes change of context.  We'll try this for now."
   ]
  },
  {
   "cell_type": "code",
   "execution_count": 21,
   "metadata": {},
   "outputs": [],
   "source": [
    "dialogues = []\n",
    "dialogue = []\n",
    "current_type = 'none'\n",
    "current_speaker = 'none'\n",
    "\n",
    "for line in script1[first_spoken_line:]:\n",
    "    previous_type = current_type\n",
    "    current_type = lineType(line)\n",
    "    \n",
    "    if previous_type == '@setting' and current_type == '@scene' and dialogue:\n",
    "        dialogues.append(dialogue)\n",
    "        dialogue = []\n",
    "        current_speaker = 'none'\n",
    "        \n",
    "    #at some point u should refactor so that u take care of (cont.) and justify the existence of the if statement\n",
    "    #also take out the check try except\n",
    "    if current_type == '@speak':\n",
    "        try:\n",
    "            name_break = line.index(':#')\n",
    "            previous_speaker = current_speaker\n",
    "            current_speaker = line[:name_break]\n",
    "            current_line = line[name_break+2:]\n",
    "            if previous_speaker in current_speaker:\n",
    "                dialogue[-1] = dialogue[-1] + ' ' + current_line\n",
    "            else:\n",
    "                dialogue.append(current_line)\n",
    "        except:\n",
    "            print(line)"
   ]
  },
  {
   "cell_type": "code",
   "execution_count": 22,
   "metadata": {},
   "outputs": [],
   "source": [
    "interactions = []\n",
    "for dialogue in dialogues:\n",
    "    if len(dialogue) > 1:\n",
    "        interactions.extend([(prompt.replace('#', ' '), response.replace('#', ' ')) for prompt, response in zip(dialogue[:-1], dialogue[1:])])"
   ]
  },
  {
   "cell_type": "code",
   "execution_count": 23,
   "metadata": {},
   "outputs": [],
   "source": [
    "def get_words(line):\n",
    "    result = re.sub('[^a-z^A-Z\\s]', '', line).lower()\n",
    "    result = re.sub('\\s+', ' ', result)\n",
    "    return result[:-1] # all of these end in new line, this gets rid of the last space"
   ]
  },
  {
   "cell_type": "code",
   "execution_count": 24,
   "metadata": {},
   "outputs": [],
   "source": [
    "interactions = [(get_words(prompt), get_words(response)) for prompt, response in interactions]"
   ]
  },
  {
   "cell_type": "markdown",
   "metadata": {},
   "source": [
    "yeah probably get rid of names and stuff."
   ]
  },
  {
   "cell_type": "code",
   "execution_count": 29,
   "metadata": {},
   "outputs": [
    {
     "data": {
      "text/plain": [
       "('not a chance', 'yup youre lookin at lucky thirteen')"
      ]
     },
     "execution_count": 29,
     "metadata": {},
     "output_type": "execute_result"
    }
   ],
   "source": [
    "interactions[399]"
   ]
  },
  {
   "cell_type": "code",
   "execution_count": 25,
   "metadata": {},
   "outputs": [
    {
     "data": {
      "text/plain": [
       "['youre', 'in', 'a', 'safe', 'place', 'will']"
      ]
     },
     "execution_count": 25,
     "metadata": {},
     "output_type": "execute_result"
    }
   ],
   "source": [
    "interactions[250][0].split(' ')"
   ]
  },
  {
   "cell_type": "code",
   "execution_count": 26,
   "metadata": {},
   "outputs": [
    {
     "data": {
      "text/plain": [
       "955"
      ]
     },
     "execution_count": 26,
     "metadata": {},
     "output_type": "execute_result"
    }
   ],
   "source": [
    "len(interactions)"
   ]
  },
  {
   "cell_type": "markdown",
   "metadata": {},
   "source": [
    "## Ideas to assist in convergence\n",
    "\n",
    "Maybe replace all names with pronouns or sir and stuff and introducing yourself.  Leave it in for now, hoping most dialogue isn't just introductions or circle jerks.\n",
    "\n",
    "For longer bits, it might be worth taking the first sentence as the reply and the last sentence as prompting the next response.\n",
    "\n",
    "More noise: when two people respond to the same question."
   ]
  },
  {
   "cell_type": "code",
   "execution_count": 152,
   "metadata": {},
   "outputs": [
    {
     "data": {
      "text/plain": [
       "['You suck.#',\n",
       " 'What?#',\n",
       " \"I've been sitting over there for #forty-five minutes waiting for you #to come talk to me. But I'm just #tired now and I have to go home and #I wasn't going to keep sitting there #waiting for you.#\",\n",
       " \"I'm Will.#\",\n",
       " \"Skylar. And by the way. That guy #over there is a real dick and I just #wanted you to know he didn't come #with us.#\",\n",
       " 'I kind of got that impression.#',\n",
       " \"Well, look, I have to go. Gotta' get #up early and waste some more money #on my overpriced education.#\",\n",
       " \"I didn't mean you. Listen, maybe...#\",\n",
       " \"Here's my number.# Maybe we could go out for coffee #sometime?#\",\n",
       " 'Great, or maybe we could go somewhere #and just eat a bunch of caramels.#',\n",
       " 'What?#',\n",
       " \"When you think about it, it's just #as arbitrary as drinking coffee.#\",\n",
       " '#Okay, sounds good.#',\n",
       " 'Five minutes.#',\n",
       " 'What?#',\n",
       " 'I was trying to be smooth.##But at twelve-fifteen I was gonna #come over there and talk to you.#',\n",
       " \"See, it's my life story. Five more #minutes and I would have got to hear #your best pick-up line.#\",\n",
       " 'The caramel thing is my pick-up line.#',\n",
       " 'Glad I came over.#']"
      ]
     },
     "execution_count": 152,
     "metadata": {},
     "output_type": "execute_result"
    }
   ],
   "source": [
    "dialogues[17]"
   ]
  },
  {
   "cell_type": "markdown",
   "metadata": {},
   "source": [
    "## Download Scripts"
   ]
  },
  {
   "cell_type": "code",
   "execution_count": 30,
   "metadata": {},
   "outputs": [],
   "source": [
    "path = 'scripts/'"
   ]
  },
  {
   "cell_type": "code",
   "execution_count": 270,
   "metadata": {},
   "outputs": [],
   "source": [
    "main_url = 'https://www.weeklyscript.com/'"
   ]
  },
  {
   "cell_type": "code",
   "execution_count": 250,
   "metadata": {},
   "outputs": [],
   "source": [
    "movies_url = 'https://www.weeklyscript.com/movies.htm'"
   ]
  },
  {
   "cell_type": "code",
   "execution_count": 251,
   "metadata": {},
   "outputs": [],
   "source": [
    "req = requests.get(movies_url)\n",
    "soup = BeautifulSoup(req.content, 'lxml')"
   ]
  },
  {
   "cell_type": "code",
   "execution_count": 256,
   "metadata": {},
   "outputs": [],
   "source": [
    "link_tags = soup.find('table').find_all('a')[:-1]"
   ]
  },
  {
   "cell_type": "code",
   "execution_count": 259,
   "metadata": {},
   "outputs": [],
   "source": [
    "tag = link_tags[0]"
   ]
  },
  {
   "cell_type": "code",
   "execution_count": 292,
   "metadata": {},
   "outputs": [
    {
     "data": {
      "text/plain": [
       "<b><a href=\"movies_A.htm\">A</a></b>"
      ]
     },
     "execution_count": 292,
     "metadata": {},
     "output_type": "execute_result"
    }
   ],
   "source": [
    "tag.parent"
   ]
  },
  {
   "cell_type": "code",
   "execution_count": 271,
   "metadata": {},
   "outputs": [],
   "source": [
    "alpha_links = [main_url + tag.attrs['href'] for tag in link_tags]"
   ]
  },
  {
   "cell_type": "code",
   "execution_count": 281,
   "metadata": {},
   "outputs": [
    {
     "data": {
      "text/plain": [
       "'https://www.weeklyscript.com/movies_A.htm'"
      ]
     },
     "execution_count": 281,
     "metadata": {},
     "output_type": "execute_result"
    }
   ],
   "source": [
    "alpha_links[0]"
   ]
  },
  {
   "cell_type": "code",
   "execution_count": 291,
   "metadata": {},
   "outputs": [],
   "source": [
    "def makeScript(url):\n",
    "    req = requests.get(url)\n",
    "    soup = BeautifulSoup(req.content, 'lxml')\n",
    "    script = soup.find('center')\n",
    "    return script"
   ]
  },
  {
   "cell_type": "code",
   "execution_count": 299,
   "metadata": {},
   "outputs": [],
   "source": [
    "for alpha_link in alpha_links:\n",
    "    req = requests.get(alpha_link)\n",
    "    soup = BeautifulSoup(req.content, 'lxml')\n",
    "    file_names = [tag.attrs['href'] for tag in soup.find_all('a') if tag.contents[0] == '.TXT']\n",
    "\n",
    "    for file_name in file_names:\n",
    "        link = main_url + file_name\n",
    "        script = makeScript(link)\n",
    "        path = './scripts/' + file_name\n",
    "        with open(path, 'w') as f:\n",
    "            f.write(script.text)"
   ]
  },
  {
   "cell_type": "markdown",
   "metadata": {},
   "source": [
    "what if something goes wrong during the downloading?  gonna find out i guess.  probably jumped the gun on that."
   ]
  },
  {
   "cell_type": "markdown",
   "metadata": {},
   "source": [
    "## Barely Cleaned Up"
   ]
  },
  {
   "cell_type": "code",
   "execution_count": 5,
   "metadata": {},
   "outputs": [],
   "source": [
    "#needs refactor to be way shorter and more readable\n",
    "import re\n",
    "import numpy as np\n",
    "\n",
    "def makeDialogue(script_text):\n",
    "    num_breaks_regex = getNormalLineBreaks(script_text)\n",
    "    script1 = re.sub('([A-Z]+\\)*)\\n', '\\\\1:\\n', script_text)\n",
    "    script1 = re.sub(num_breaks_regex, '#', script1)#.replace('  ', ' ')\n",
    "    #replaces those stage direction aside stuffs\n",
    "    script1 = re.sub('\\([a-z].*\\)', '', script1).split('\\n')\n",
    "    #not sure this is actually important try pulling the first line another way\n",
    "    script_split = [lineType(line) for line in script1]\n",
    "    \n",
    "    dialogues = []\n",
    "    dialogue = []\n",
    "    current_type = 'none'\n",
    "    current_speaker = 'none'\n",
    "    first_spoken_line = np.where([line=='@speak' for line in script_split])[0][0]\n",
    "\n",
    "    for line in script1[first_spoken_line:]:\n",
    "        previous_type = current_type\n",
    "        current_type = lineType(line)\n",
    "\n",
    "        if previous_type == '@setting' and current_type == '@scene' and dialogue:\n",
    "            dialogues.append(dialogue)\n",
    "            dialogue = []\n",
    "            current_speaker = 'none'\n",
    "\n",
    "        #at some point u should refactor so that u take care of (cont.) and justify the existence of the if statement\n",
    "        #also take out the check try except\n",
    "        if current_type == '@speak':\n",
    "            try:\n",
    "                name_break = line.index(':#')\n",
    "                previous_speaker = current_speaker\n",
    "                current_speaker = line[:name_break]\n",
    "                current_line = line[name_break+2:]\n",
    "                if previous_speaker in current_speaker:\n",
    "                    dialogue[-1] = dialogue[-1] + ' ' + current_line\n",
    "                else:\n",
    "                    dialogue.append(current_line)\n",
    "            except:\n",
    "                print(line)\n",
    "    \n",
    "    interactions = []\n",
    "    for dialogue in dialogues:\n",
    "        if len(dialogue) > 1:\n",
    "            interactions.extend([(prompt.replace('#', ' '), response.replace('#', ' ')) for prompt, response in zip(dialogue[:-1], dialogue[1:])])\n",
    "    interactions = [(getWords(prompt), getWords(response)) for prompt, response in interactions]\n",
    "    \n",
    "    return interactions\n",
    "\n",
    "def lineType(line):\n",
    "    if re.search('^[^a-z]*:[^a-z]*$', line):\n",
    "        return '@setting'\n",
    "    if re.match('^[A-Z.,\\'\\ ]+:', line):\n",
    "        return '@speak'\n",
    "    else:\n",
    "        return '@scene'\n",
    "\n",
    "def getNormalLineBreaks(script_text):\n",
    "    current_lines = len(re.findall('(?<=[^\\n])\\n{1}(?=[^\\n])', script_text))\n",
    "    #this will work for the small sample i've seen but maybe consider changing break condition\n",
    "    for lines_for_break in range(1, 10) :\n",
    "        expression = r'(?<=[^\\n])\\n{' + str(lines_for_break+1) + r'}(?=[^\\n])'\n",
    "        next_lines = len(re.findall(expression, script_text))\n",
    "        if (current_lines - next_lines) > 200 and current_lines > 1000 and next_lines > 1000:\n",
    "            regex_return = '(?<=[^\\n])\\n{' + str(lines_for_break) + '}'\n",
    "            return regex_return\n",
    "        current_lines = next_lines\n",
    "    raise RuntimeError('Could not find difference between dialogue line breaks')\n",
    "            \n",
    "def getWords(line):\n",
    "    result = re.sub('[^a-z^A-Z\\s]', '', line).lower()\n",
    "    result = re.sub('\\s+', ' ', result)\n",
    "    result = result[:-1].split() # all of these end in new line, this gets rid of the last space\n",
    "    return ['BOS'] + result + ['EOS']"
   ]
  },
  {
   "cell_type": "code",
   "execution_count": 6,
   "metadata": {},
   "outputs": [],
   "source": [
    "with open('./scripts/Aliens.txt', 'r') as f:\n",
    "    script = f.read()\n",
    "    interactions = makeDialogue(script)"
   ]
  },
  {
   "cell_type": "raw",
   "metadata": {},
   "source": [
    "from os import listdir\n",
    "\n",
    "listdir('./scripts/')"
   ]
  },
  {
   "cell_type": "code",
   "execution_count": 8,
   "metadata": {},
   "outputs": [],
   "source": [
    "from getInputs import WordIndex"
   ]
  },
  {
   "cell_type": "code",
   "execution_count": null,
   "metadata": {},
   "outputs": [],
   "source": [
    "language = WordIndex(0)"
   ]
  }
 ],
 "metadata": {
  "kernelspec": {
   "display_name": "Python 3",
   "language": "python",
   "name": "python3"
  },
  "language_info": {
   "codemirror_mode": {
    "name": "ipython",
    "version": 3
   },
   "file_extension": ".py",
   "mimetype": "text/x-python",
   "name": "python",
   "nbconvert_exporter": "python",
   "pygments_lexer": "ipython3",
   "version": "3.6.7"
  }
 },
 "nbformat": 4,
 "nbformat_minor": 2
}
