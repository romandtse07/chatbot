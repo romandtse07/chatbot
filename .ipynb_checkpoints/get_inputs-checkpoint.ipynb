{
 "cells": [
  {
   "cell_type": "code",
   "execution_count": null,
   "metadata": {},
   "outputs": [],
   "source": [
    "from collections import defaultdict\n",
    "\n",
    "class word_index:\n",
    "\n",
    "    def __init__(self, min_count = 5):\n",
    "        self.word_counts = defaultdict(int)\n",
    "        self.min_count = min_count\n",
    "        \n",
    "    def fillCounts(self, dialogue):\n",
    "        for word in dialogue:\n",
    "            self.word_counts[word] += 1\n",
    "            \n",
    "    def getIndicies(self):\n",
    "        return {word:index for index, word in enumerate(word_counts) if self.word_counts[word] > self.min_count}"
   ]
  }
 ],
 "metadata": {
  "kernelspec": {
   "display_name": "Python 3",
   "language": "python",
   "name": "python3"
  },
  "language_info": {
   "codemirror_mode": {
    "name": "ipython",
    "version": 3
   },
   "file_extension": ".py",
   "mimetype": "text/x-python",
   "name": "python",
   "nbconvert_exporter": "python",
   "pygments_lexer": "ipython3",
   "version": "3.6.7"
  }
 },
 "nbformat": 4,
 "nbformat_minor": 2
}
