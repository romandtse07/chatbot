{
 "cells": [
  {
   "cell_type": "markdown",
   "metadata": {},
   "source": [
    "# Let's put fxns for building out the inputs to the ann here.\n",
    "\n",
    "Right now, this includes\n",
    "- straight up indexing all words (above some count arbitrarily set at 5)\n",
    "- import word2vec"
   ]
  },
  {
   "cell_type": "code",
   "execution_count": 20,
   "metadata": {},
   "outputs": [],
   "source": [
    "from collections import defaultdict\n",
    "\n",
    "class WordIndex:\n",
    "\n",
    "    def __init__(self, min_count = 5):\n",
    "        self.word_counts = defaultdict(int)\n",
    "        self.min_count = min_count\n",
    "        \n",
    "    def fillCounts(self, dialogue):\n",
    "        for word in dialogue:\n",
    "            self.word_counts[word] += 1\n",
    "            \n",
    "    def getIndicies(self):\n",
    "        return {word:index for index, word in enumerate(self.word_counts) if self.word_counts[word] > self.min_count}"
   ]
  },
  {
   "cell_type": "code",
   "execution_count": 21,
   "metadata": {},
   "outputs": [],
   "source": [
    "new_language = WordIndex(0)"
   ]
  },
  {
   "cell_type": "code",
   "execution_count": 22,
   "metadata": {},
   "outputs": [],
   "source": [
    "new_language.fillCounts('wut on earth is this magic'.split())"
   ]
  },
  {
   "cell_type": "code",
   "execution_count": 23,
   "metadata": {},
   "outputs": [
    {
     "data": {
      "text/plain": [
       "{'wut': 0, 'on': 1, 'earth': 2, 'is': 3, 'this': 4, 'magic': 5}"
      ]
     },
     "execution_count": 23,
     "metadata": {},
     "output_type": "execute_result"
    }
   ],
   "source": [
    "new_language.getIndicies()"
   ]
  },
  {
   "cell_type": "code",
   "execution_count": null,
   "metadata": {},
   "outputs": [],
   "source": []
  }
 ],
 "metadata": {
  "kernelspec": {
   "display_name": "Python 3",
   "language": "python",
   "name": "python3"
  },
  "language_info": {
   "codemirror_mode": {
    "name": "ipython",
    "version": 3
   },
   "file_extension": ".py",
   "mimetype": "text/x-python",
   "name": "python",
   "nbconvert_exporter": "python",
   "pygments_lexer": "ipython3",
   "version": "3.6.7"
  }
 },
 "nbformat": 4,
 "nbformat_minor": 2
}
